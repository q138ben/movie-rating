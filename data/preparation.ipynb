{
 "cells": [
  {
   "cell_type": "code",
   "execution_count": 1,
   "metadata": {},
   "outputs": [],
   "source": [
    "import polars as pl\n",
    "from polars import col\n",
    "from pathlib import Path\n",
    "import shutil"
   ]
  },
  {
   "cell_type": "code",
   "execution_count": 2,
   "metadata": {},
   "outputs": [],
   "source": [
    "actors = pl.read_csv(\"actors.csv\")\n",
    "movies = pl.read_csv(\"movies.csv\")\n",
    "countries = pl.read_csv(\"countries.csv\")\n",
    "crew = pl.read_csv(\"crew.csv\")\n",
    "genres = pl.read_csv(\"genres.csv\")\n",
    "languages = pl.read_csv(\"languages.csv\")\n",
    "releases = pl.read_csv(\"releases.csv\")\n",
    "studios = pl.read_csv(\"studios.csv\")\n",
    "themes = pl.read_csv(\"themes.csv\")"
   ]
  },
  {
   "cell_type": "markdown",
   "metadata": {},
   "source": [
    "# Filtering\n",
    "\n",
    "* Only movies tagged with country: USA\n",
    "* Only the top 200 studios in terms of number of unique titles\n",
    "* No null values for\n",
    "    * Rating\n",
    "    * Date\n",
    "    * Tagline\n",
    "    * Description\n",
    "    * Minutes\n",
    "\n",
    "Subsequently:\n",
    "* Only actors represented in at least 3 in the sampled dataset\n",
    "* Only directors who have directed at least 3 movies in the sampled dataset\n",
    "\n"
   ]
  },
  {
   "cell_type": "code",
   "execution_count": 3,
   "metadata": {},
   "outputs": [],
   "source": [
    "filtered_studios = studios.join(\n",
    "    studios.group_by(\"studio\").agg(pl.len().alias(\"n_unique_movies\")).sort(\"n_unique_movies\", descending=True).limit(200),\n",
    "    on=\"studio\",\n",
    "    how=\"semi\",\n",
    ")"
   ]
  },
  {
   "cell_type": "code",
   "execution_count": 4,
   "metadata": {},
   "outputs": [],
   "source": [
    "filtered_countries = countries.filter(col(\"country\") == \"USA\")"
   ]
  },
  {
   "cell_type": "code",
   "execution_count": 5,
   "metadata": {},
   "outputs": [],
   "source": [
    "filtered_movies = movies.join(\n",
    "    filtered_studios,\n",
    "    on=\"id\",\n",
    "    how=\"semi\",\n",
    ").join(\n",
    "    filtered_countries,\n",
    "    on=\"id\",\n",
    "    how=\"semi\",\n",
    ").filter(\n",
    "    col(\"rating\").is_not_null() &\n",
    "    col(\"date\").is_not_null() &\n",
    "    col(\"tagline\").is_not_null() &\n",
    "    col(\"description\").is_not_null() &\n",
    "    col(\"minute\").is_not_null()\n",
    ")\n",
    "\n",
    "filtered_movies = filtered_movies.join(\n",
    "    releases.rename(\n",
    "        {\"rating\": \"theatrical_release_age_rating\"}\n",
    "    ).filter(\n",
    "        (col(\"country\") == \"USA\") &\n",
    "        (col(\"theatrical_release_age_rating\").is_not_null()) & # n.b. we'll do a left join later so we'll still have null values for the age_rating of some movies\n",
    "        (col(\"type\") == \"Theatrical\")\n",
    "    ).sort(\n",
    "        [\"date\"], descending=False, nulls_last=True\n",
    "    ).group_by(\"id\", maintain_order=True).first()[[\"id\", \"theatrical_release_age_rating\"]],\n",
    "    on=\"id\",\n",
    "    how=\"left\"\n",
    ")"
   ]
  },
  {
   "cell_type": "code",
   "execution_count": 6,
   "metadata": {},
   "outputs": [
    {
     "data": {
      "text/html": [
       "<div><style>\n",
       ".dataframe > thead > tr,\n",
       ".dataframe > tbody > tr {\n",
       "  text-align: right;\n",
       "  white-space: pre-wrap;\n",
       "}\n",
       "</style>\n",
       "<small>shape: (10_599, 8)</small><table border=\"1\" class=\"dataframe\"><thead><tr><th>id</th><th>name</th><th>date</th><th>tagline</th><th>description</th><th>minute</th><th>rating</th><th>theatrical_release_age_rating</th></tr><tr><td>i64</td><td>str</td><td>i64</td><td>str</td><td>str</td><td>i64</td><td>f64</td><td>str</td></tr></thead><tbody><tr><td>1000001</td><td>&quot;Barbie&quot;</td><td>2023</td><td>&quot;She&#x27;s everything. He&#x27;s just Ke…</td><td>&quot;Barbie and Ken are having the …</td><td>114</td><td>3.86</td><td>&quot;PG-13&quot;</td></tr><tr><td>1000004</td><td>&quot;Fight Club&quot;</td><td>1999</td><td>&quot;Mischief. Mayhem. Soap.&quot;</td><td>&quot;A ticking-time-bomb insomniac …</td><td>139</td><td>4.27</td><td>&quot;R&quot;</td></tr><tr><td>1000006</td><td>&quot;Oppenheimer&quot;</td><td>2023</td><td>&quot;The world forever changes.&quot;</td><td>&quot;The story of J. Robert Oppenhe…</td><td>181</td><td>4.23</td><td>&quot;R&quot;</td></tr><tr><td>1000008</td><td>&quot;Joker&quot;</td><td>2019</td><td>&quot;Put on a happy face.&quot;</td><td>&quot;During the 1980s, a failed sta…</td><td>122</td><td>3.85</td><td>&quot;R&quot;</td></tr><tr><td>1000010</td><td>&quot;Pulp Fiction&quot;</td><td>1994</td><td>&quot;Just because you are a charact…</td><td>&quot;A burger-loving hit man, his p…</td><td>154</td><td>4.26</td><td>&quot;R&quot;</td></tr><tr><td>&hellip;</td><td>&hellip;</td><td>&hellip;</td><td>&hellip;</td><td>&hellip;</td><td>&hellip;</td><td>&hellip;</td><td>&hellip;</td></tr><tr><td>1110821</td><td>&quot;Yes, We Have No Bonanza&quot;</td><td>1939</td><td>&quot;YES, YOU&#x27;LL HAVE PLENTY OF LAU…</td><td>&quot;Set in a western town, the sto…</td><td>16</td><td>3.39</td><td>&quot;NR&quot;</td></tr><tr><td>1111634</td><td>&quot;How High Is Up?&quot;</td><td>1940</td><td>&quot;A New High In Hilarity!&quot;</td><td>&quot;The stooges are the &#x27;Minute Me…</td><td>17</td><td>3.46</td><td>null</td></tr><tr><td>1112676</td><td>&quot;No Census, No Feeling&quot;</td><td>1940</td><td>&quot;Those madcap merchants of mirt…</td><td>&quot;The stooges get jobs as census…</td><td>17</td><td>3.42</td><td>&quot;NR&quot;</td></tr><tr><td>1114819</td><td>&quot;Deviant Love&quot;</td><td>2019</td><td>&quot;Love makes you do crazy things…</td><td>&quot;In a tailspin after her marria…</td><td>86</td><td>2.6</td><td>null</td></tr><tr><td>1117805</td><td>&quot;Identity Theft&quot;</td><td>2004</td><td>&quot;It only took a moment to steal…</td><td>&quot;A young woman faces a nightmar…</td><td>120</td><td>2.84</td><td>null</td></tr></tbody></table></div>"
      ],
      "text/plain": [
       "shape: (10_599, 8)\n",
       "┌─────────┬───────────────┬──────┬───────────────┬───────────────┬────────┬────────┬───────────────┐\n",
       "│ id      ┆ name          ┆ date ┆ tagline       ┆ description   ┆ minute ┆ rating ┆ theatrical_re │\n",
       "│ ---     ┆ ---           ┆ ---  ┆ ---           ┆ ---           ┆ ---    ┆ ---    ┆ lease_age_rat │\n",
       "│ i64     ┆ str           ┆ i64  ┆ str           ┆ str           ┆ i64    ┆ f64    ┆ ing           │\n",
       "│         ┆               ┆      ┆               ┆               ┆        ┆        ┆ ---           │\n",
       "│         ┆               ┆      ┆               ┆               ┆        ┆        ┆ str           │\n",
       "╞═════════╪═══════════════╪══════╪═══════════════╪═══════════════╪════════╪════════╪═══════════════╡\n",
       "│ 1000001 ┆ Barbie        ┆ 2023 ┆ She's         ┆ Barbie and    ┆ 114    ┆ 3.86   ┆ PG-13         │\n",
       "│         ┆               ┆      ┆ everything.   ┆ Ken are       ┆        ┆        ┆               │\n",
       "│         ┆               ┆      ┆ He's just Ke… ┆ having the …  ┆        ┆        ┆               │\n",
       "│ 1000004 ┆ Fight Club    ┆ 1999 ┆ Mischief.     ┆ A ticking-tim ┆ 139    ┆ 4.27   ┆ R             │\n",
       "│         ┆               ┆      ┆ Mayhem. Soap. ┆ e-bomb        ┆        ┆        ┆               │\n",
       "│         ┆               ┆      ┆               ┆ insomniac …   ┆        ┆        ┆               │\n",
       "│ 1000006 ┆ Oppenheimer   ┆ 2023 ┆ The world     ┆ The story of  ┆ 181    ┆ 4.23   ┆ R             │\n",
       "│         ┆               ┆      ┆ forever       ┆ J. Robert     ┆        ┆        ┆               │\n",
       "│         ┆               ┆      ┆ changes.      ┆ Oppenhe…      ┆        ┆        ┆               │\n",
       "│ 1000008 ┆ Joker         ┆ 2019 ┆ Put on a      ┆ During the    ┆ 122    ┆ 3.85   ┆ R             │\n",
       "│         ┆               ┆      ┆ happy face.   ┆ 1980s, a      ┆        ┆        ┆               │\n",
       "│         ┆               ┆      ┆               ┆ failed sta…   ┆        ┆        ┆               │\n",
       "│ 1000010 ┆ Pulp Fiction  ┆ 1994 ┆ Just because  ┆ A             ┆ 154    ┆ 4.26   ┆ R             │\n",
       "│         ┆               ┆      ┆ you are a     ┆ burger-loving ┆        ┆        ┆               │\n",
       "│         ┆               ┆      ┆ charact…      ┆ hit man, his  ┆        ┆        ┆               │\n",
       "│         ┆               ┆      ┆               ┆ p…            ┆        ┆        ┆               │\n",
       "│ …       ┆ …             ┆ …    ┆ …             ┆ …             ┆ …      ┆ …      ┆ …             │\n",
       "│ 1110821 ┆ Yes, We Have  ┆ 1939 ┆ YES, YOU'LL   ┆ Set in a      ┆ 16     ┆ 3.39   ┆ NR            │\n",
       "│         ┆ No Bonanza    ┆      ┆ HAVE PLENTY   ┆ western town, ┆        ┆        ┆               │\n",
       "│         ┆               ┆      ┆ OF LAU…       ┆ the sto…      ┆        ┆        ┆               │\n",
       "│ 1111634 ┆ How High Is   ┆ 1940 ┆ A New High In ┆ The stooges   ┆ 17     ┆ 3.46   ┆ null          │\n",
       "│         ┆ Up?           ┆      ┆ Hilarity!     ┆ are the       ┆        ┆        ┆               │\n",
       "│         ┆               ┆      ┆               ┆ 'Minute Me…   ┆        ┆        ┆               │\n",
       "│ 1112676 ┆ No Census, No ┆ 1940 ┆ Those madcap  ┆ The stooges   ┆ 17     ┆ 3.42   ┆ NR            │\n",
       "│         ┆ Feeling       ┆      ┆ merchants of  ┆ get jobs as   ┆        ┆        ┆               │\n",
       "│         ┆               ┆      ┆ mirt…         ┆ census…       ┆        ┆        ┆               │\n",
       "│ 1114819 ┆ Deviant Love  ┆ 2019 ┆ Love makes    ┆ In a tailspin ┆ 86     ┆ 2.6    ┆ null          │\n",
       "│         ┆               ┆      ┆ you do crazy  ┆ after her     ┆        ┆        ┆               │\n",
       "│         ┆               ┆      ┆ things…       ┆ marria…       ┆        ┆        ┆               │\n",
       "│ 1117805 ┆ Identity      ┆ 2004 ┆ It only took  ┆ A young woman ┆ 120    ┆ 2.84   ┆ null          │\n",
       "│         ┆ Theft         ┆      ┆ a moment to   ┆ faces a       ┆        ┆        ┆               │\n",
       "│         ┆               ┆      ┆ steal…        ┆ nightmar…     ┆        ┆        ┆               │\n",
       "└─────────┴───────────────┴──────┴───────────────┴───────────────┴────────┴────────┴───────────────┘"
      ]
     },
     "execution_count": 6,
     "metadata": {},
     "output_type": "execute_result"
    }
   ],
   "source": [
    "filtered_movies"
   ]
  },
  {
   "cell_type": "code",
   "execution_count": 7,
   "metadata": {},
   "outputs": [],
   "source": [
    "# Warning: actor names are potentially not unique\n",
    "filtered_actors = actors.drop(\"role\").join(\n",
    "    filtered_movies,\n",
    "    on=\"id\",\n",
    "    how=\"semi\",\n",
    ")\n",
    "\n",
    "filtered_actors = filtered_actors.join(\n",
    "    filtered_actors.group_by(\"name\").agg(pl.len().alias(\"n_movies\")).sort(\"n_movies\", descending=True).filter(col(\"n_movies\") > 5),\n",
    "    on=\"name\",\n",
    "    how=\"semi\",\n",
    ").rename({\"name\": \"actor_name\"})"
   ]
  },
  {
   "cell_type": "code",
   "execution_count": 8,
   "metadata": {},
   "outputs": [],
   "source": [
    "# Warning: director names are potentially not unique\n",
    "filtered_directors = crew.filter(\n",
    "    (col(\"role\") == \"Director\")\n",
    ").drop(\n",
    "    \"role\"\n",
    ").join(filtered_movies, on=\"id\", how=\"semi\")\n",
    "\n",
    "filtered_directors = filtered_directors.join(\n",
    "    filtered_directors.group_by(\"name\").agg(pl.len().alias(\"n_movies\")).sort(\"n_movies\", descending=True).filter(col(\"n_movies\") > 5),\n",
    "    on=\"name\",\n",
    "    how=\"semi\",\n",
    ").rename(\n",
    "    {\"name\": \"director_name\"}\n",
    ")"
   ]
  },
  {
   "cell_type": "markdown",
   "metadata": {},
   "source": [
    "# Map movie IDs to a \"simpler\" 0-based index\n",
    "\n",
    "And reorder columns"
   ]
  },
  {
   "cell_type": "code",
   "execution_count": 9,
   "metadata": {},
   "outputs": [],
   "source": [
    "id_mapping = pl.DataFrame({\"original_id\": filtered_movies[\"id\"], \"movie_id\": [i for i in range(filtered_movies.height)]})\n",
    "filtered_movies = filtered_movies.rename({\"id\": \"original_id\"}).join(id_mapping, on=\"original_id\", how=\"inner\")[[\"movie_id\", \"original_id\", \"name\", \"date\", \"tagline\", \"description\", \"minute\", \"theatrical_release_age_rating\", \"rating\"]]\n",
    "filtered_actors = filtered_actors.rename({\"id\": \"original_id\"}).join(id_mapping, on=\"original_id\", how=\"inner\")[[\"movie_id\", \"original_id\", \"actor_name\"]]\n",
    "filtered_directors = filtered_directors.rename({\"id\": \"original_id\"}).join(id_mapping, on=\"original_id\", how=\"inner\")[[\"movie_id\", \"original_id\", \"director_name\"]]\n",
    "filtered_studios = filtered_studios.rename({\"id\": \"original_id\"}).join(id_mapping, on=\"original_id\", how=\"inner\")[[\"movie_id\", \"original_id\", \"studio\"]]\n"
   ]
  },
  {
   "cell_type": "code",
   "execution_count": 10,
   "metadata": {},
   "outputs": [
    {
     "data": {
      "text/html": [
       "<div><style>\n",
       ".dataframe > thead > tr,\n",
       ".dataframe > tbody > tr {\n",
       "  text-align: right;\n",
       "  white-space: pre-wrap;\n",
       "}\n",
       "</style>\n",
       "<small>shape: (10_599, 9)</small><table border=\"1\" class=\"dataframe\"><thead><tr><th>movie_id</th><th>original_id</th><th>name</th><th>date</th><th>tagline</th><th>description</th><th>minute</th><th>theatrical_release_age_rating</th><th>rating</th></tr><tr><td>i64</td><td>i64</td><td>str</td><td>i64</td><td>str</td><td>str</td><td>i64</td><td>str</td><td>f64</td></tr></thead><tbody><tr><td>0</td><td>1000001</td><td>&quot;Barbie&quot;</td><td>2023</td><td>&quot;She&#x27;s everything. He&#x27;s just Ke…</td><td>&quot;Barbie and Ken are having the …</td><td>114</td><td>&quot;PG-13&quot;</td><td>3.86</td></tr><tr><td>1</td><td>1000004</td><td>&quot;Fight Club&quot;</td><td>1999</td><td>&quot;Mischief. Mayhem. Soap.&quot;</td><td>&quot;A ticking-time-bomb insomniac …</td><td>139</td><td>&quot;R&quot;</td><td>4.27</td></tr><tr><td>2</td><td>1000006</td><td>&quot;Oppenheimer&quot;</td><td>2023</td><td>&quot;The world forever changes.&quot;</td><td>&quot;The story of J. Robert Oppenhe…</td><td>181</td><td>&quot;R&quot;</td><td>4.23</td></tr><tr><td>3</td><td>1000008</td><td>&quot;Joker&quot;</td><td>2019</td><td>&quot;Put on a happy face.&quot;</td><td>&quot;During the 1980s, a failed sta…</td><td>122</td><td>&quot;R&quot;</td><td>3.85</td></tr><tr><td>4</td><td>1000010</td><td>&quot;Pulp Fiction&quot;</td><td>1994</td><td>&quot;Just because you are a charact…</td><td>&quot;A burger-loving hit man, his p…</td><td>154</td><td>&quot;R&quot;</td><td>4.26</td></tr><tr><td>&hellip;</td><td>&hellip;</td><td>&hellip;</td><td>&hellip;</td><td>&hellip;</td><td>&hellip;</td><td>&hellip;</td><td>&hellip;</td><td>&hellip;</td></tr><tr><td>10594</td><td>1110821</td><td>&quot;Yes, We Have No Bonanza&quot;</td><td>1939</td><td>&quot;YES, YOU&#x27;LL HAVE PLENTY OF LAU…</td><td>&quot;Set in a western town, the sto…</td><td>16</td><td>&quot;NR&quot;</td><td>3.39</td></tr><tr><td>10595</td><td>1111634</td><td>&quot;How High Is Up?&quot;</td><td>1940</td><td>&quot;A New High In Hilarity!&quot;</td><td>&quot;The stooges are the &#x27;Minute Me…</td><td>17</td><td>null</td><td>3.46</td></tr><tr><td>10596</td><td>1112676</td><td>&quot;No Census, No Feeling&quot;</td><td>1940</td><td>&quot;Those madcap merchants of mirt…</td><td>&quot;The stooges get jobs as census…</td><td>17</td><td>&quot;NR&quot;</td><td>3.42</td></tr><tr><td>10597</td><td>1114819</td><td>&quot;Deviant Love&quot;</td><td>2019</td><td>&quot;Love makes you do crazy things…</td><td>&quot;In a tailspin after her marria…</td><td>86</td><td>null</td><td>2.6</td></tr><tr><td>10598</td><td>1117805</td><td>&quot;Identity Theft&quot;</td><td>2004</td><td>&quot;It only took a moment to steal…</td><td>&quot;A young woman faces a nightmar…</td><td>120</td><td>null</td><td>2.84</td></tr></tbody></table></div>"
      ],
      "text/plain": [
       "shape: (10_599, 9)\n",
       "┌──────────┬─────────────┬──────────────┬──────┬───┬──────────────┬────────┬──────────────┬────────┐\n",
       "│ movie_id ┆ original_id ┆ name         ┆ date ┆ … ┆ description  ┆ minute ┆ theatrical_r ┆ rating │\n",
       "│ ---      ┆ ---         ┆ ---          ┆ ---  ┆   ┆ ---          ┆ ---    ┆ elease_age_r ┆ ---    │\n",
       "│ i64      ┆ i64         ┆ str          ┆ i64  ┆   ┆ str          ┆ i64    ┆ ating        ┆ f64    │\n",
       "│          ┆             ┆              ┆      ┆   ┆              ┆        ┆ ---          ┆        │\n",
       "│          ┆             ┆              ┆      ┆   ┆              ┆        ┆ str          ┆        │\n",
       "╞══════════╪═════════════╪══════════════╪══════╪═══╪══════════════╪════════╪══════════════╪════════╡\n",
       "│ 0        ┆ 1000001     ┆ Barbie       ┆ 2023 ┆ … ┆ Barbie and   ┆ 114    ┆ PG-13        ┆ 3.86   │\n",
       "│          ┆             ┆              ┆      ┆   ┆ Ken are      ┆        ┆              ┆        │\n",
       "│          ┆             ┆              ┆      ┆   ┆ having the … ┆        ┆              ┆        │\n",
       "│ 1        ┆ 1000004     ┆ Fight Club   ┆ 1999 ┆ … ┆ A ticking-ti ┆ 139    ┆ R            ┆ 4.27   │\n",
       "│          ┆             ┆              ┆      ┆   ┆ me-bomb      ┆        ┆              ┆        │\n",
       "│          ┆             ┆              ┆      ┆   ┆ insomniac …  ┆        ┆              ┆        │\n",
       "│ 2        ┆ 1000006     ┆ Oppenheimer  ┆ 2023 ┆ … ┆ The story of ┆ 181    ┆ R            ┆ 4.23   │\n",
       "│          ┆             ┆              ┆      ┆   ┆ J. Robert    ┆        ┆              ┆        │\n",
       "│          ┆             ┆              ┆      ┆   ┆ Oppenhe…     ┆        ┆              ┆        │\n",
       "│ 3        ┆ 1000008     ┆ Joker        ┆ 2019 ┆ … ┆ During the   ┆ 122    ┆ R            ┆ 3.85   │\n",
       "│          ┆             ┆              ┆      ┆   ┆ 1980s, a     ┆        ┆              ┆        │\n",
       "│          ┆             ┆              ┆      ┆   ┆ failed sta…  ┆        ┆              ┆        │\n",
       "│ 4        ┆ 1000010     ┆ Pulp Fiction ┆ 1994 ┆ … ┆ A burger-lov ┆ 154    ┆ R            ┆ 4.26   │\n",
       "│          ┆             ┆              ┆      ┆   ┆ ing hit man, ┆        ┆              ┆        │\n",
       "│          ┆             ┆              ┆      ┆   ┆ his p…       ┆        ┆              ┆        │\n",
       "│ …        ┆ …           ┆ …            ┆ …    ┆ … ┆ …            ┆ …      ┆ …            ┆ …      │\n",
       "│ 10594    ┆ 1110821     ┆ Yes, We Have ┆ 1939 ┆ … ┆ Set in a     ┆ 16     ┆ NR           ┆ 3.39   │\n",
       "│          ┆             ┆ No Bonanza   ┆      ┆   ┆ western      ┆        ┆              ┆        │\n",
       "│          ┆             ┆              ┆      ┆   ┆ town, the    ┆        ┆              ┆        │\n",
       "│          ┆             ┆              ┆      ┆   ┆ sto…         ┆        ┆              ┆        │\n",
       "│ 10595    ┆ 1111634     ┆ How High Is  ┆ 1940 ┆ … ┆ The stooges  ┆ 17     ┆ null         ┆ 3.46   │\n",
       "│          ┆             ┆ Up?          ┆      ┆   ┆ are the      ┆        ┆              ┆        │\n",
       "│          ┆             ┆              ┆      ┆   ┆ 'Minute Me…  ┆        ┆              ┆        │\n",
       "│ 10596    ┆ 1112676     ┆ No Census,   ┆ 1940 ┆ … ┆ The stooges  ┆ 17     ┆ NR           ┆ 3.42   │\n",
       "│          ┆             ┆ No Feeling   ┆      ┆   ┆ get jobs as  ┆        ┆              ┆        │\n",
       "│          ┆             ┆              ┆      ┆   ┆ census…      ┆        ┆              ┆        │\n",
       "│ 10597    ┆ 1114819     ┆ Deviant Love ┆ 2019 ┆ … ┆ In a         ┆ 86     ┆ null         ┆ 2.6    │\n",
       "│          ┆             ┆              ┆      ┆   ┆ tailspin     ┆        ┆              ┆        │\n",
       "│          ┆             ┆              ┆      ┆   ┆ after her    ┆        ┆              ┆        │\n",
       "│          ┆             ┆              ┆      ┆   ┆ marria…      ┆        ┆              ┆        │\n",
       "│ 10598    ┆ 1117805     ┆ Identity     ┆ 2004 ┆ … ┆ A young      ┆ 120    ┆ null         ┆ 2.84   │\n",
       "│          ┆             ┆ Theft        ┆      ┆   ┆ woman faces  ┆        ┆              ┆        │\n",
       "│          ┆             ┆              ┆      ┆   ┆ a nightmar…  ┆        ┆              ┆        │\n",
       "└──────────┴─────────────┴──────────────┴──────┴───┴──────────────┴────────┴──────────────┴────────┘"
      ]
     },
     "execution_count": 10,
     "metadata": {},
     "output_type": "execute_result"
    }
   ],
   "source": [
    "filtered_movies"
   ]
  },
  {
   "cell_type": "markdown",
   "metadata": {},
   "source": [
    "# Save data"
   ]
  },
  {
   "cell_type": "code",
   "execution_count": null,
   "metadata": {},
   "outputs": [],
   "source": [
    "filtered_data_folder = Path(\"filtered\")\n",
    "filtered_posters_folder = filtered_data_folder.joinpath(\"posters\")\n",
    "image_folder = Path(\"posters\")\n",
    "\n",
    "filtered_data_folder.mkdir(exist_ok=True)\n",
    "filtered_posters_folder.mkdir(exist_ok=True)"
   ]
  },
  {
   "cell_type": "code",
   "execution_count": 11,
   "metadata": {},
   "outputs": [],
   "source": [
    "filtered_movies.write_csv(filtered_data_folder.joinpath(\"movies.csv\"))\n",
    "filtered_actors.write_csv(filtered_data_folder.joinpath(\"actors.csv\"))\n",
    "filtered_directors.write_csv(filtered_data_folder.joinpath(\"directors.csv\"))\n",
    "filtered_studios.write_csv(filtered_data_folder.joinpath(\"studios.csv\"))\n",
    "\n",
    "for row in filtered_movies.iter_rows(named=True):\n",
    "    original_movie_id = row[\"original_id\"]\n",
    "    movie_id = row[\"movie_id\"]\n",
    "    \n",
    "    image_path = image_folder.joinpath(f\"{original_movie_id}.jpg\")\n",
    "    if image_path.exists():\n",
    "        shutil.copy(image_path, filtered_posters_folder.joinpath(f\"{movie_id}.jpg\"))\n",
    "    else:\n",
    "        raise FileNotFoundError(f\"ERROR:Image not found for movie {original_movie_id}\")"
   ]
  },
  {
   "cell_type": "markdown",
   "metadata": {},
   "source": [
    "## Produce CLIP embeddings for the movie posters"
   ]
  },
  {
   "cell_type": "code",
   "execution_count": 13,
   "metadata": {},
   "outputs": [],
   "source": [
    "from transformers import CLIPProcessor, CLIPModel\n",
    "from PIL import Image\n",
    "import torch\n",
    "import numpy as np"
   ]
  },
  {
   "cell_type": "code",
   "execution_count": 45,
   "metadata": {},
   "outputs": [],
   "source": [
    "clip_image_processor = CLIPProcessor.from_pretrained(\"openai/clip-vit-base-patch32\")\n",
    "clip_vision_model = CLIPModel.from_pretrained(\"openai/clip-vit-base-patch32\")\n",
    "\n",
    "def get_image_embeddings(image_paths):\n",
    "    images = [Image.open(image_path) for image_path in image_paths]\n",
    "    inputs = clip_image_processor(images=images, return_tensors=\"pt\")\n",
    "    with torch.no_grad():\n",
    "        outputs = clip_vision_model.get_image_features(**inputs)\n",
    "    return outputs"
   ]
  },
  {
   "cell_type": "code",
   "execution_count": 53,
   "metadata": {},
   "outputs": [],
   "source": [
    "image_embeddings = get_image_embeddings([filtered_posters_folder.joinpath(f\"{movie_id}.jpg\") for movie_id in filtered_movies[\"id\"].to_list()])"
   ]
  },
  {
   "cell_type": "code",
   "execution_count": 54,
   "metadata": {},
   "outputs": [
    {
     "data": {
      "text/plain": [
       "array([[-0.10932737, -0.5135564 , -0.13299036, ...,  0.37617517,\n",
       "        -0.03452259,  0.6330602 ],\n",
       "       [-0.14249939, -0.08135171,  0.09522294, ...,  0.23633456,\n",
       "         0.11451474,  0.3982417 ],\n",
       "       [-0.2902962 ,  0.32712936, -0.19116507, ...,  0.21396765,\n",
       "         0.25395045, -0.24302319],\n",
       "       ...,\n",
       "       [ 0.1251586 ,  0.16826448, -0.4882458 , ...,  0.3885356 ,\n",
       "         0.2684787 , -0.322622  ],\n",
       "       [ 0.16716644,  0.37810767, -0.34913853, ...,  0.04571151,\n",
       "         0.0035307 , -0.08718923],\n",
       "       [-0.36362553, -0.10683084, -0.22944315, ...,  0.57249534,\n",
       "         0.36928752, -0.21038885]], dtype=float32)"
      ]
     },
     "execution_count": 54,
     "metadata": {},
     "output_type": "execute_result"
    }
   ],
   "source": [
    "image_embeddings.numpy()"
   ]
  },
  {
   "cell_type": "markdown",
   "metadata": {},
   "source": [
    "## Produce text embeddings using nomic-embed-text-v1.5"
   ]
  },
  {
   "cell_type": "code",
   "execution_count": 58,
   "metadata": {},
   "outputs": [],
   "source": [
    "from sentence_transformers import SentenceTransformer"
   ]
  },
  {
   "cell_type": "code",
   "execution_count": 60,
   "metadata": {},
   "outputs": [
    {
     "name": "stderr",
     "output_type": "stream",
     "text": [
      "<All keys matched successfully>\n"
     ]
    }
   ],
   "source": [
    "model = SentenceTransformer(\"nomic-ai/nomic-embed-text-v1.5\", trust_remote_code=True)\n",
    "\n",
    "def get_text_embeddings(texts):\n",
    "    return model.encode([f\"classification: text\" for text in texts])"
   ]
  },
  {
   "cell_type": "code",
   "execution_count": 66,
   "metadata": {},
   "outputs": [],
   "source": [
    "tagline_embeddings = get_text_embeddings(filtered_movies[\"tagline\"].to_list())"
   ]
  },
  {
   "cell_type": "code",
   "execution_count": 67,
   "metadata": {},
   "outputs": [],
   "source": [
    "description_embeddings = get_text_embeddings(filtered_movies[\"description\"].to_list())"
   ]
  },
  {
   "cell_type": "code",
   "execution_count": 69,
   "metadata": {},
   "outputs": [
    {
     "data": {
      "text/plain": [
       "(10599, 768)"
      ]
     },
     "execution_count": 69,
     "metadata": {},
     "output_type": "execute_result"
    }
   ],
   "source": [
    "description_embeddings.shape"
   ]
  },
  {
   "cell_type": "markdown",
   "metadata": {},
   "source": [
    "## Save embeddings"
   ]
  },
  {
   "cell_type": "markdown",
   "metadata": {},
   "source": [
    "np.save(file=filtered_data_folder.join())"
   ]
  }
 ],
 "metadata": {
  "kernelspec": {
   "display_name": "movie-rating-case",
   "language": "python",
   "name": "python3"
  },
  "language_info": {
   "codemirror_mode": {
    "name": "ipython",
    "version": 3
   },
   "file_extension": ".py",
   "mimetype": "text/x-python",
   "name": "python",
   "nbconvert_exporter": "python",
   "pygments_lexer": "ipython3",
   "version": "3.10.12"
  }
 },
 "nbformat": 4,
 "nbformat_minor": 2
}
